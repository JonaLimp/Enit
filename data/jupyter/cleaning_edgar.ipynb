{
 "cells": [
  {
   "cell_type": "code",
   "execution_count": 22,
   "metadata": {},
   "outputs": [],
   "source": [
    "import pandas as pd\n",
    "import pycountry"
   ]
  },
  {
   "cell_type": "markdown",
   "metadata": {},
   "source": [
    "Load excel and read specific sheet."
   ]
  },
  {
   "cell_type": "code",
   "execution_count": 23,
   "metadata": {},
   "outputs": [],
   "source": [
    "excel_file = pd.ExcelFile('../datasets/IEA_EDGAR_CO2_1970_2023.xlsx', engine='openpyxl')\n",
    "data = pd.read_excel(excel_file, sheet_name='IPCC 2006')"
   ]
  },
  {
   "cell_type": "markdown",
   "metadata": {},
   "source": [
    "Drop rows containing metadata and unnecassary columns."
   ]
  },
  {
   "cell_type": "code",
   "execution_count": 24,
   "metadata": {},
   "outputs": [],
   "source": [
    "data = data.drop(index=range(9))\n",
    "data = data.drop(['Content:', 'Unnamed: 4', 'Unnamed: 6', 'Unnamed: 7'], axis=1)\n"
   ]
  },
  {
   "cell_type": "markdown",
   "metadata": {},
   "source": [
    "Rename columns to more meaningful names."
   ]
  },
  {
   "cell_type": "code",
   "execution_count": 25,
   "metadata": {},
   "outputs": [
    {
     "data": {
      "text/html": [
       "<div>\n",
       "<style scoped>\n",
       "    .dataframe tbody tr th:only-of-type {\n",
       "        vertical-align: middle;\n",
       "    }\n",
       "\n",
       "    .dataframe tbody tr th {\n",
       "        vertical-align: top;\n",
       "    }\n",
       "\n",
       "    .dataframe thead th {\n",
       "        text-align: right;\n",
       "    }\n",
       "</style>\n",
       "<table border=\"1\" class=\"dataframe\">\n",
       "  <thead>\n",
       "    <tr style=\"text-align: right;\">\n",
       "      <th></th>\n",
       "      <th>continental region</th>\n",
       "      <th>country_code</th>\n",
       "      <th>country_name</th>\n",
       "      <th>sector</th>\n",
       "      <th>1970</th>\n",
       "      <th>1971</th>\n",
       "      <th>1972</th>\n",
       "      <th>1973</th>\n",
       "      <th>1974</th>\n",
       "      <th>1975</th>\n",
       "      <th>...</th>\n",
       "      <th>2014</th>\n",
       "      <th>2015</th>\n",
       "      <th>2016</th>\n",
       "      <th>2017</th>\n",
       "      <th>2018</th>\n",
       "      <th>2019</th>\n",
       "      <th>2020</th>\n",
       "      <th>2021</th>\n",
       "      <th>2022</th>\n",
       "      <th>2023</th>\n",
       "    </tr>\n",
       "  </thead>\n",
       "  <tbody>\n",
       "    <tr>\n",
       "      <th>9</th>\n",
       "      <td>Rest Central America</td>\n",
       "      <td>ABW</td>\n",
       "      <td>Aruba</td>\n",
       "      <td>Main Activity Electricity and Heat Production</td>\n",
       "      <td>17.343706</td>\n",
       "      <td>19.877523</td>\n",
       "      <td>29.330046</td>\n",
       "      <td>31.21418</td>\n",
       "      <td>30.114787</td>\n",
       "      <td>43.025369</td>\n",
       "      <td>...</td>\n",
       "      <td>222.238026</td>\n",
       "      <td>230.102165</td>\n",
       "      <td>240.807934</td>\n",
       "      <td>223.432549</td>\n",
       "      <td>226.341226</td>\n",
       "      <td>268.030985</td>\n",
       "      <td>232.923266</td>\n",
       "      <td>253.01031</td>\n",
       "      <td>251.278359</td>\n",
       "      <td>263.50657</td>\n",
       "    </tr>\n",
       "    <tr>\n",
       "      <th>10</th>\n",
       "      <td>Rest Central America</td>\n",
       "      <td>ABW</td>\n",
       "      <td>Aruba</td>\n",
       "      <td>Manufacturing Industries and Construction</td>\n",
       "      <td>0.193087</td>\n",
       "      <td>0.221296</td>\n",
       "      <td>0.279981</td>\n",
       "      <td>0.260094</td>\n",
       "      <td>0.323792</td>\n",
       "      <td>0.39553</td>\n",
       "      <td>...</td>\n",
       "      <td>22.208463</td>\n",
       "      <td>24.215383</td>\n",
       "      <td>21.728011</td>\n",
       "      <td>33.276726</td>\n",
       "      <td>28.199275</td>\n",
       "      <td>29.319799</td>\n",
       "      <td>26.562462</td>\n",
       "      <td>34.208633</td>\n",
       "      <td>33.974462</td>\n",
       "      <td>35.627795</td>\n",
       "    </tr>\n",
       "    <tr>\n",
       "      <th>11</th>\n",
       "      <td>Rest Central America</td>\n",
       "      <td>ABW</td>\n",
       "      <td>Aruba</td>\n",
       "      <td>Civil Aviation</td>\n",
       "      <td>0.754306</td>\n",
       "      <td>0.864505</td>\n",
       "      <td>0.511096</td>\n",
       "      <td>0.603384</td>\n",
       "      <td>0.83483</td>\n",
       "      <td>0.849693</td>\n",
       "      <td>...</td>\n",
       "      <td>18.429354</td>\n",
       "      <td>18.900723</td>\n",
       "      <td>18.986393</td>\n",
       "      <td>19.690313</td>\n",
       "      <td>16.58486</td>\n",
       "      <td>25.492941</td>\n",
       "      <td>11.216762</td>\n",
       "      <td>12.473237</td>\n",
       "      <td>17.61512</td>\n",
       "      <td>20.659366</td>\n",
       "    </tr>\n",
       "    <tr>\n",
       "      <th>12</th>\n",
       "      <td>Rest Central America</td>\n",
       "      <td>ABW</td>\n",
       "      <td>Aruba</td>\n",
       "      <td>Road Transportation no resuspension</td>\n",
       "      <td>1.04072</td>\n",
       "      <td>1.192764</td>\n",
       "      <td>1.360877</td>\n",
       "      <td>1.700968</td>\n",
       "      <td>2.126094</td>\n",
       "      <td>3.406416</td>\n",
       "      <td>...</td>\n",
       "      <td>126.415252</td>\n",
       "      <td>135.23878</td>\n",
       "      <td>140.177105</td>\n",
       "      <td>135.429729</td>\n",
       "      <td>136.224966</td>\n",
       "      <td>165.125521</td>\n",
       "      <td>128.398393</td>\n",
       "      <td>143.107436</td>\n",
       "      <td>142.127812</td>\n",
       "      <td>149.04432</td>\n",
       "    </tr>\n",
       "    <tr>\n",
       "      <th>13</th>\n",
       "      <td>Rest Central America</td>\n",
       "      <td>ABW</td>\n",
       "      <td>Aruba</td>\n",
       "      <td>Water-borne Navigation</td>\n",
       "      <td>NaN</td>\n",
       "      <td>NaN</td>\n",
       "      <td>NaN</td>\n",
       "      <td>NaN</td>\n",
       "      <td>NaN</td>\n",
       "      <td>NaN</td>\n",
       "      <td>...</td>\n",
       "      <td>9.191439</td>\n",
       "      <td>9.637073</td>\n",
       "      <td>10.209681</td>\n",
       "      <td>9.763253</td>\n",
       "      <td>9.615795</td>\n",
       "      <td>11.382993</td>\n",
       "      <td>9.866186</td>\n",
       "      <td>10.696811</td>\n",
       "      <td>10.876347</td>\n",
       "      <td>12.16022</td>\n",
       "    </tr>\n",
       "  </tbody>\n",
       "</table>\n",
       "<p>5 rows × 58 columns</p>\n",
       "</div>"
      ],
      "text/plain": [
       "      continental region country_code country_name  \\\n",
       "9   Rest Central America          ABW        Aruba   \n",
       "10  Rest Central America          ABW        Aruba   \n",
       "11  Rest Central America          ABW        Aruba   \n",
       "12  Rest Central America          ABW        Aruba   \n",
       "13  Rest Central America          ABW        Aruba   \n",
       "\n",
       "                                           sector       1970       1971  \\\n",
       "9   Main Activity Electricity and Heat Production  17.343706  19.877523   \n",
       "10      Manufacturing Industries and Construction   0.193087   0.221296   \n",
       "11                                 Civil Aviation   0.754306   0.864505   \n",
       "12            Road Transportation no resuspension    1.04072   1.192764   \n",
       "13                         Water-borne Navigation        NaN        NaN   \n",
       "\n",
       "         1972      1973       1974       1975  ...        2014        2015  \\\n",
       "9   29.330046  31.21418  30.114787  43.025369  ...  222.238026  230.102165   \n",
       "10   0.279981  0.260094   0.323792    0.39553  ...   22.208463   24.215383   \n",
       "11   0.511096  0.603384    0.83483   0.849693  ...   18.429354   18.900723   \n",
       "12   1.360877  1.700968   2.126094   3.406416  ...  126.415252   135.23878   \n",
       "13        NaN       NaN        NaN        NaN  ...    9.191439    9.637073   \n",
       "\n",
       "          2016        2017        2018        2019        2020        2021  \\\n",
       "9   240.807934  223.432549  226.341226  268.030985  232.923266   253.01031   \n",
       "10   21.728011   33.276726   28.199275   29.319799   26.562462   34.208633   \n",
       "11   18.986393   19.690313    16.58486   25.492941   11.216762   12.473237   \n",
       "12  140.177105  135.429729  136.224966  165.125521  128.398393  143.107436   \n",
       "13   10.209681    9.763253    9.615795   11.382993    9.866186   10.696811   \n",
       "\n",
       "          2022       2023  \n",
       "9   251.278359  263.50657  \n",
       "10   33.974462  35.627795  \n",
       "11    17.61512  20.659366  \n",
       "12  142.127812  149.04432  \n",
       "13   10.876347   12.16022  \n",
       "\n",
       "[5 rows x 58 columns]"
      ]
     },
     "execution_count": 25,
     "metadata": {},
     "output_type": "execute_result"
    }
   ],
   "source": [
    "column_names = {\n",
    "    'Emissions by country and main source category': 'continental region',\n",
    "    'Unnamed: 2': 'country_code',\n",
    "    'Unnamed: 3': 'country_name',\n",
    "    'Unnamed: 5': 'sector'\n",
    "}\n",
    "\n",
    "column_names_years = {f'Unnamed: {i}': i + 1962 for i in range(8, 62)}\n",
    "column_names = column_names | column_names_years\n",
    "\n",
    "data.rename(columns=column_names, inplace=True)\n",
    "data.head()"
   ]
  },
  {
   "cell_type": "code",
   "execution_count": 32,
   "metadata": {},
   "outputs": [
    {
     "name": "stdout",
     "output_type": "stream",
     "text": [
      "Rows with missing sectors: Empty DataFrame\n",
      "Columns: [continental region, country_code, country_name, sector, 1970, 1971, 1972, 1973, 1974, 1975, 1976, 1977, 1978, 1979, 1980, 1981, 1982, 1983, 1984, 1985, 1986, 1987, 1988, 1989, 1990, 1991, 1992, 1993, 1994, 1995, 1996, 1997, 1998, 1999, 2000, 2001, 2002, 2003, 2004, 2005, 2006, 2007, 2008, 2009, 2010, 2011, 2012, 2013, 2014, 2015, 2016, 2017, 2018, 2019, 2020, 2021, 2022, 2023]\n",
      "Index: []\n",
      "\n",
      "[0 rows x 58 columns]\n"
     ]
    }
   ],
   "source": [
    "\n",
    "missing_sectors = data[data['sector'].isnull()]\n",
    "print(\"Rows with missing sectors:\", missing_sectors)\n"
   ]
  },
  {
   "cell_type": "code",
   "execution_count": 27,
   "metadata": {},
   "outputs": [],
   "source": [
    "def alpha3_to_alpha2(alpha3_code):\n",
    "    try:\n",
    "        country = pycountry.countries.get(alpha_3=alpha3_code)\n",
    "        return country.alpha_2 if country else None\n",
    "    except AttributeError:\n",
    "        return None\n",
    "\n",
    "# Convert column\n",
    "data['country_code'] = data['country_code'].apply(alpha3_to_alpha2)"
   ]
  },
  {
   "cell_type": "markdown",
   "metadata": {},
   "source": [
    "Save cleaned data."
   ]
  },
  {
   "cell_type": "code",
   "execution_count": 28,
   "metadata": {},
   "outputs": [],
   "source": [
    "data.to_csv('../datasets/IEA_EDGAR_CO2_1970_2023_cleaned.csv', index=False)\n"
   ]
  },
  {
   "cell_type": "markdown",
   "metadata": {},
   "source": []
  }
 ],
 "metadata": {
  "kernelspec": {
   "display_name": ".venv",
   "language": "python",
   "name": "python3"
  },
  "language_info": {
   "codemirror_mode": {
    "name": "ipython",
    "version": 3
   },
   "file_extension": ".py",
   "mimetype": "text/x-python",
   "name": "python",
   "nbconvert_exporter": "python",
   "pygments_lexer": "ipython3",
   "version": "3.12.3"
  }
 },
 "nbformat": 4,
 "nbformat_minor": 2
}
